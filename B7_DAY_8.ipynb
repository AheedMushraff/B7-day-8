{
  "nbformat": 4,
  "nbformat_minor": 0,
  "metadata": {
    "colab": {
      "name": "B7.DAY-8",
      "provenance": [],
      "collapsed_sections": [],
      "authorship_tag": "ABX9TyN4eK2xQpPcpO5A2mroiOf0",
      "include_colab_link": true
    },
    "kernelspec": {
      "name": "python3",
      "display_name": "Python 3"
    }
  },
  "cells": [
    {
      "cell_type": "markdown",
      "metadata": {
        "id": "view-in-github",
        "colab_type": "text"
      },
      "source": [
        "<a href=\"https://colab.research.google.com/github/AheedMushraff/B7-day-8/blob/master/B7_DAY_8.ipynb\" target=\"_parent\"><img src=\"https://colab.research.google.com/assets/colab-badge.svg\" alt=\"Open In Colab\"/></a>"
      ]
    },
    {
      "cell_type": "code",
      "metadata": {
        "id": "Oo66_JPYT_Ud",
        "colab_type": "code",
        "colab": {}
      },
      "source": [
        "file = open(\"b7 assignment-8.txt\",'w')\n",
        "file.write(\"i love my country\")\n",
        "file.close()"
      ],
      "execution_count": null,
      "outputs": []
    },
    {
      "cell_type": "code",
      "metadata": {
        "id": "j5eOYAhAUboE",
        "colab_type": "code",
        "colab": {
          "base_uri": "https://localhost:8080/",
          "height": 35
        },
        "outputId": "fafe5643-32be-41bb-dfa5-2c3271dd4d47"
      },
      "source": [
        "file=open(\"b7 assignment-8.txt\",'r')\n",
        "print(file.read())\n",
        "file.close()"
      ],
      "execution_count": 31,
      "outputs": [
        {
          "output_type": "stream",
          "text": [
            "i love my country\n"
          ],
          "name": "stdout"
        }
      ]
    },
    {
      "cell_type": "code",
      "metadata": {
        "id": "wDi_LhnTUtN-",
        "colab_type": "code",
        "colab": {
          "base_uri": "https://localhost:8080/",
          "height": 35
        },
        "outputId": "ea6e6ab8-186f-445c-abe6-7d9acfb919d8"
      },
      "source": [
        "def memoize(f):\n",
        "    memo = {}\n",
        "    def helper (x):\n",
        "      if x not in memo:\n",
        "        memo[x] = f(x)\n",
        "      return memo[x]\n",
        "    return helper\n",
        "\n",
        "@memoize\n",
        "def fib (n):\n",
        "  if n == 0:\n",
        "    return 0\n",
        "  elif n == 1 :\n",
        "    return 1\n",
        "  else:\n",
        "    return fib(n-1) + fib(n-2)\n",
        "\n",
        "print (fib(25))               "
      ],
      "execution_count": 33,
      "outputs": [
        {
          "output_type": "stream",
          "text": [
            "75025\n"
          ],
          "name": "stdout"
        }
      ]
    },
    {
      "cell_type": "code",
      "metadata": {
        "id": "tsT4FigoX0tW",
        "colab_type": "code",
        "colab": {}
      },
      "source": [
        ""
      ],
      "execution_count": null,
      "outputs": []
    }
  ]
}